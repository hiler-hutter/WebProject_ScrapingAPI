{
 "cells": [
  {
   "cell_type": "code",
   "execution_count": 1,
   "id": "06e1d3b2",
   "metadata": {},
   "outputs": [],
   "source": [
    "#importamos el modulo api pandas_datareader del world bank as wb con la finalidad de obtener la data objetivo\n",
    "import pandas as pd\n",
    "from pandas_datareader import wb"
   ]
  },
  {
   "cell_type": "code",
   "execution_count": 2,
   "id": "f58a1fee",
   "metadata": {},
   "outputs": [],
   "source": [
    "#Crecimiento porcentual anual del PIB por paises en 2019\n",
    "GDP_Growth_Annual = \"NY.GDP.MKTP.KD.ZG\" "
   ]
  },
  {
   "cell_type": "code",
   "execution_count": 3,
   "id": "e69ee53c",
   "metadata": {},
   "outputs": [],
   "source": [
    "#Lista de paises de nuestra base de datos\n",
    "countries = [\"CHN\", \"USA\", \"IND\", \"JPN\", \"RUS\", \"DEU\", \"IND\", \"BRA\", \"FRA\", \n",
    "             \"TUR\", \"GBR\", \"MEX\", \"ITA\", \"PRK\", \"SAU\", \"ESP\", \"CAN\", \"NGA\", \n",
    "             \"EGY\", \"THA\", \"POL\", \"PAK\", \"AUS\", \"ARG\", \"MYS\", \"PHL\", \"BGD\", \n",
    "             \"VNM\", \"NLD\", \"ZAF\", \"COL\", \"ARE\", \"UKR\", \"ROU\", \"BEL\", \"CHE\", \n",
    "             \"KAZ\", \"SWE\", \"SGP\", \"PER\", \"CHL\", \"IRL\", \"DZA\", \"AUT\", \"HKG\",\n",
    "             \"CZE\", \"ISR\", \"LKA\", \"PRT\", \"NOR\", \"HUN\", \"ETH\", \"KEN\", \"GRC\",\n",
    "             \"DNK\", \"AGO\", \"MAR\", \"MMR\", \"SSD\", \"QAT\", \"FIN\", \"TZA\", \"ECU\",\n",
    "             \"GHA\", \"DOM\", \"KWT\", \"BLR\", \"NZL\", \"CIV\", \"GTM\", \"OMN\", \"BGR\", \n",
    "             \"SVK\", \"AZE\", \"COD\", \"PAN\", \"NPL\", \"LBY\", \"CMR\", \"BOL\", \"UGA\", \n",
    "             \"TUN\", \"HRV\", \"PRY\", \"CRI\", \"LTU\", \"JOR\", \"KHM\", \"URY\", \"SVN\",\n",
    "             \"ZMB\", \"ZWE\", \"BHR\", \"LBN\", \"SEN\", \"BFA\", \"MLI\", \"HND\", \"SLV\",\n",
    "             \"LUX\", \"GEO\", \"LAO\", \"LVA\", \"MDG\", \"BIH\", \"GAB\", \"BEN\", \"EST\", \n",
    "             \"BWA\", \"GIN\", \"HTI\", \"MOZ\", \"YEM\", \"NIC\", \"ARM\", \"PNG\", \"NER\",\n",
    "             \"MNG\", \"ALB\", \"TJK\", \"MKD\", \"MDA\", \"KGZ\", \"MWI\", \"CYP\", \"TTO\",\n",
    "             \"TCD\", \"RWA\", \"MRT\", \"COG\", \"JAM\", \"NAM\", \"TGO\", \"MUS\", \"MLT\",\n",
    "             \"GUY\", \"SLE\", \"ISL\", \"BHS\", \"SWZ\", \"BDI\", \"LBR\", \"SUR\", \"BTN\",\n",
    "             \"GMB\", \"CAF\", \"LSO\", \"GNB\", \"CPV\", \"COM\",]"
   ]
  },
  {
   "cell_type": "code",
   "execution_count": 4,
   "id": "e8b5de11",
   "metadata": {},
   "outputs": [],
   "source": [
    "DF_GDP_Growth_Annual = wb.download(indicator=GDP_Growth_Annual, country=countries, start=2019, end=2019)"
   ]
  },
  {
   "cell_type": "code",
   "execution_count": 5,
   "id": "e1fca040",
   "metadata": {},
   "outputs": [],
   "source": [
    "#DF_GDP_Growth_Annual"
   ]
  },
  {
   "cell_type": "code",
   "execution_count": 6,
   "id": "8a46d2d5",
   "metadata": {},
   "outputs": [],
   "source": [
    "#Crecimiento anual del PIB por paises en 2019\n",
    "GDP_Current_USDollar = \"NY.GDP.MKTP.CD\" "
   ]
  },
  {
   "cell_type": "code",
   "execution_count": 7,
   "id": "4af6764f",
   "metadata": {},
   "outputs": [],
   "source": [
    "DF_GDP_Current_USDollar = wb.download(indicator=GDP_Current_USDollar, country=countries, start=2019, end=2019)"
   ]
  },
  {
   "cell_type": "code",
   "execution_count": 8,
   "id": "f584146b",
   "metadata": {},
   "outputs": [],
   "source": [
    "#DF_GDP_Current_USDollar"
   ]
  },
  {
   "cell_type": "code",
   "execution_count": 9,
   "id": "66c8da66",
   "metadata": {},
   "outputs": [],
   "source": [
    "#Exportaciones porcentuales anuales con relacion al PIB por paises en 2019\n",
    "Exports_Percentage_GDP = \"NE.EXP.GNFS.ZS\" "
   ]
  },
  {
   "cell_type": "code",
   "execution_count": 10,
   "id": "30803d78",
   "metadata": {},
   "outputs": [],
   "source": [
    "DF_Exports_Percentage_GDP = wb.download(indicator=Exports_Percentage_GDP, country=countries, start=2019, end=2019)"
   ]
  },
  {
   "cell_type": "code",
   "execution_count": 11,
   "id": "0aeb8057",
   "metadata": {},
   "outputs": [],
   "source": [
    "#DF_Exports_Percentage_GDP"
   ]
  },
  {
   "cell_type": "code",
   "execution_count": 12,
   "id": "3548ed75",
   "metadata": {},
   "outputs": [],
   "source": [
    "#Importaciones porcentuales anuales con relacion al PIB por paises en 2019\n",
    "Imports_Percentage_GDP = \"NE.IMP.GNFS.ZS\"  "
   ]
  },
  {
   "cell_type": "code",
   "execution_count": 13,
   "id": "17d2f2eb",
   "metadata": {},
   "outputs": [],
   "source": [
    "DF_Imports_Percentage_GDP = wb.download(indicator=Imports_Percentage_GDP, country=countries, start=2019, end=2019)"
   ]
  },
  {
   "cell_type": "code",
   "execution_count": 14,
   "id": "4c3eacfd",
   "metadata": {},
   "outputs": [],
   "source": [
    "#DF_Imports_Percentage_GDP"
   ]
  },
  {
   "cell_type": "code",
   "execution_count": 15,
   "id": "05d81a4a",
   "metadata": {},
   "outputs": [],
   "source": [
    "#Gastos porcentuales anuales con relacion al PIB por paises en 2019\n",
    "Expense_Percentage_GDP = \"GC.XPN.TOTL.GD.ZS\"  "
   ]
  },
  {
   "cell_type": "code",
   "execution_count": 16,
   "id": "0a9ad266",
   "metadata": {},
   "outputs": [],
   "source": [
    "DF_Expense_Percentage_GDP = wb.download(indicator=Expense_Percentage_GDP, country=countries, start=2019, end=2019)"
   ]
  },
  {
   "cell_type": "code",
   "execution_count": 17,
   "id": "7fe0d82c",
   "metadata": {},
   "outputs": [],
   "source": [
    "#DF_Expense_Percentage_GDP"
   ]
  },
  {
   "cell_type": "code",
   "execution_count": 18,
   "id": "be141ae4",
   "metadata": {},
   "outputs": [],
   "source": [
    "#Inflacion porcentual anual por paises medidos en el precio al consumidor en 2019\n",
    "Inflation_Consumer_Prices_Percentage_Annual = \"FP.CPI.TOTL.ZG\" "
   ]
  },
  {
   "cell_type": "code",
   "execution_count": 19,
   "id": "2da8920b",
   "metadata": {},
   "outputs": [],
   "source": [
    "DF_Inflation_Consumer_Prices_Percentage_Annual = wb.download(indicator=Inflation_Consumer_Prices_Percentage_Annual, country=countries, start=2019, end=2019)"
   ]
  },
  {
   "cell_type": "code",
   "execution_count": 20,
   "id": "dbddb4e2",
   "metadata": {},
   "outputs": [],
   "source": [
    "#DF_Inflation_Consumer_Prices_Percentage_Annual"
   ]
  },
  {
   "cell_type": "code",
   "execution_count": 21,
   "id": "272227d5",
   "metadata": {},
   "outputs": [],
   "source": [
    "#Gasto en educacion porcentual en relacion al PIB en 2019\n",
    "Government_expenditure_education_Percentage_GDP = \"SE.XPD.TOTL.GD.ZS\""
   ]
  },
  {
   "cell_type": "code",
   "execution_count": 22,
   "id": "e38d5bd2",
   "metadata": {},
   "outputs": [],
   "source": [
    "DF_Government_expenditure_education_Percentage_GDP = wb.download(indicator=Government_expenditure_education_Percentage_GDP, country=countries, start=2019, end=2019)"
   ]
  },
  {
   "cell_type": "code",
   "execution_count": 23,
   "id": "1b4913ce",
   "metadata": {},
   "outputs": [],
   "source": [
    "#DF_Government_expenditure_education_Percentage_GDP"
   ]
  },
  {
   "cell_type": "code",
   "execution_count": 24,
   "id": "61db456a",
   "metadata": {},
   "outputs": [],
   "source": [
    "#Gastos en Investigacion y Desarrollo anual en proporcion del PIB por paises en 2019\n",
    "RyD_Expenditure_Percentage_GDP = \"GB.XPD.RSDV.GD.ZS\""
   ]
  },
  {
   "cell_type": "code",
   "execution_count": 25,
   "id": "e07124ab",
   "metadata": {},
   "outputs": [],
   "source": [
    "DF_RyD_Expenditure_Percentage_GDP = wb.download(indicator=RyD_Expenditure_Percentage_GDP, country=countries, start=2019, end=2019)"
   ]
  },
  {
   "cell_type": "code",
   "execution_count": 26,
   "id": "3a71b256",
   "metadata": {},
   "outputs": [],
   "source": [
    "#DF_RyD_Expenditure_Percentage_GDP"
   ]
  },
  {
   "cell_type": "code",
   "execution_count": 27,
   "id": "78cbd933",
   "metadata": {},
   "outputs": [],
   "source": [
    "#Now we merge all the data frames\n",
    "World_Bank_Indicator = DF_GDP_Growth_Annual.merge(DF_GDP_Current_USDollar, on = \"country\").merge(DF_Exports_Percentage_GDP, on = \"country\").merge(DF_Imports_Percentage_GDP, on = \"country\").merge(DF_Expense_Percentage_GDP, on = \"country\").merge(DF_Inflation_Consumer_Prices_Percentage_Annual, on = \"country\").merge(DF_Government_expenditure_education_Percentage_GDP, on = \"country\").merge(DF_RyD_Expenditure_Percentage_GDP, on = \"country\")"
   ]
  },
  {
   "cell_type": "code",
   "execution_count": 28,
   "id": "b6d2ba16",
   "metadata": {},
   "outputs": [
    {
     "data": {
      "text/html": [
       "<div>\n",
       "<style scoped>\n",
       "    .dataframe tbody tr th:only-of-type {\n",
       "        vertical-align: middle;\n",
       "    }\n",
       "\n",
       "    .dataframe tbody tr th {\n",
       "        vertical-align: top;\n",
       "    }\n",
       "\n",
       "    .dataframe thead th {\n",
       "        text-align: right;\n",
       "    }\n",
       "</style>\n",
       "<table border=\"1\" class=\"dataframe\">\n",
       "  <thead>\n",
       "    <tr style=\"text-align: right;\">\n",
       "      <th></th>\n",
       "      <th>NY.GDP.MKTP.KD.ZG</th>\n",
       "      <th>NY.GDP.MKTP.CD</th>\n",
       "      <th>NE.EXP.GNFS.ZS</th>\n",
       "      <th>NE.IMP.GNFS.ZS</th>\n",
       "      <th>GC.XPN.TOTL.GD.ZS</th>\n",
       "      <th>FP.CPI.TOTL.ZG</th>\n",
       "      <th>SE.XPD.TOTL.GD.ZS</th>\n",
       "      <th>GB.XPD.RSDV.GD.ZS</th>\n",
       "    </tr>\n",
       "    <tr>\n",
       "      <th>country</th>\n",
       "      <th></th>\n",
       "      <th></th>\n",
       "      <th></th>\n",
       "      <th></th>\n",
       "      <th></th>\n",
       "      <th></th>\n",
       "      <th></th>\n",
       "      <th></th>\n",
       "    </tr>\n",
       "  </thead>\n",
       "  <tbody>\n",
       "    <tr>\n",
       "      <th>Angola</th>\n",
       "      <td>-0.624644</td>\n",
       "      <td>8.941719e+10</td>\n",
       "      <td>39.343826</td>\n",
       "      <td>24.944753</td>\n",
       "      <td>15.513042</td>\n",
       "      <td>17.081215</td>\n",
       "      <td>1.82118</td>\n",
       "      <td>NaN</td>\n",
       "    </tr>\n",
       "    <tr>\n",
       "      <th>Albania</th>\n",
       "      <td>2.113420</td>\n",
       "      <td>1.540024e+10</td>\n",
       "      <td>31.307498</td>\n",
       "      <td>44.979562</td>\n",
       "      <td>23.153042</td>\n",
       "      <td>1.411091</td>\n",
       "      <td>3.94576</td>\n",
       "      <td>NaN</td>\n",
       "    </tr>\n",
       "    <tr>\n",
       "      <th>United Arab Emirates</th>\n",
       "      <td>3.411539</td>\n",
       "      <td>4.172156e+11</td>\n",
       "      <td>96.843533</td>\n",
       "      <td>70.850619</td>\n",
       "      <td>4.267227</td>\n",
       "      <td>-1.931081</td>\n",
       "      <td>3.10270</td>\n",
       "      <td>NaN</td>\n",
       "    </tr>\n",
       "    <tr>\n",
       "      <th>Argentina</th>\n",
       "      <td>-2.025934</td>\n",
       "      <td>4.519324e+11</td>\n",
       "      <td>17.695944</td>\n",
       "      <td>14.518503</td>\n",
       "      <td>21.790049</td>\n",
       "      <td>NaN</td>\n",
       "      <td>4.80237</td>\n",
       "      <td>NaN</td>\n",
       "    </tr>\n",
       "    <tr>\n",
       "      <th>Armenia</th>\n",
       "      <td>7.600000</td>\n",
       "      <td>1.361929e+10</td>\n",
       "      <td>41.350801</td>\n",
       "      <td>54.763353</td>\n",
       "      <td>21.758481</td>\n",
       "      <td>1.443447</td>\n",
       "      <td>2.56185</td>\n",
       "      <td>NaN</td>\n",
       "    </tr>\n",
       "    <tr>\n",
       "      <th>...</th>\n",
       "      <td>...</td>\n",
       "      <td>...</td>\n",
       "      <td>...</td>\n",
       "      <td>...</td>\n",
       "      <td>...</td>\n",
       "      <td>...</td>\n",
       "      <td>...</td>\n",
       "      <td>...</td>\n",
       "    </tr>\n",
       "    <tr>\n",
       "      <th>Vietnam</th>\n",
       "      <td>7.017435</td>\n",
       "      <td>2.619212e+11</td>\n",
       "      <td>106.795550</td>\n",
       "      <td>104.704268</td>\n",
       "      <td>NaN</td>\n",
       "      <td>2.795824</td>\n",
       "      <td>4.06197</td>\n",
       "      <td>NaN</td>\n",
       "    </tr>\n",
       "    <tr>\n",
       "      <th>Yemen, Rep.</th>\n",
       "      <td>NaN</td>\n",
       "      <td>NaN</td>\n",
       "      <td>NaN</td>\n",
       "      <td>NaN</td>\n",
       "      <td>NaN</td>\n",
       "      <td>NaN</td>\n",
       "      <td>NaN</td>\n",
       "      <td>NaN</td>\n",
       "    </tr>\n",
       "    <tr>\n",
       "      <th>South Africa</th>\n",
       "      <td>0.113054</td>\n",
       "      <td>3.879346e+11</td>\n",
       "      <td>27.342180</td>\n",
       "      <td>26.808066</td>\n",
       "      <td>34.520328</td>\n",
       "      <td>4.124351</td>\n",
       "      <td>6.50505</td>\n",
       "      <td>NaN</td>\n",
       "    </tr>\n",
       "    <tr>\n",
       "      <th>Zambia</th>\n",
       "      <td>1.441306</td>\n",
       "      <td>2.330867e+10</td>\n",
       "      <td>34.636193</td>\n",
       "      <td>34.155012</td>\n",
       "      <td>21.956163</td>\n",
       "      <td>9.150316</td>\n",
       "      <td>4.46518</td>\n",
       "      <td>NaN</td>\n",
       "    </tr>\n",
       "    <tr>\n",
       "      <th>Zimbabwe</th>\n",
       "      <td>-6.144236</td>\n",
       "      <td>1.928429e+10</td>\n",
       "      <td>31.251040</td>\n",
       "      <td>32.030875</td>\n",
       "      <td>NaN</td>\n",
       "      <td>255.304991</td>\n",
       "      <td>NaN</td>\n",
       "      <td>NaN</td>\n",
       "    </tr>\n",
       "  </tbody>\n",
       "</table>\n",
       "<p>149 rows × 8 columns</p>\n",
       "</div>"
      ],
      "text/plain": [
       "                      NY.GDP.MKTP.KD.ZG  NY.GDP.MKTP.CD  NE.EXP.GNFS.ZS  \\\n",
       "country                                                                   \n",
       "Angola                        -0.624644    8.941719e+10       39.343826   \n",
       "Albania                        2.113420    1.540024e+10       31.307498   \n",
       "United Arab Emirates           3.411539    4.172156e+11       96.843533   \n",
       "Argentina                     -2.025934    4.519324e+11       17.695944   \n",
       "Armenia                        7.600000    1.361929e+10       41.350801   \n",
       "...                                 ...             ...             ...   \n",
       "Vietnam                        7.017435    2.619212e+11      106.795550   \n",
       "Yemen, Rep.                         NaN             NaN             NaN   \n",
       "South Africa                   0.113054    3.879346e+11       27.342180   \n",
       "Zambia                         1.441306    2.330867e+10       34.636193   \n",
       "Zimbabwe                      -6.144236    1.928429e+10       31.251040   \n",
       "\n",
       "                      NE.IMP.GNFS.ZS  GC.XPN.TOTL.GD.ZS  FP.CPI.TOTL.ZG  \\\n",
       "country                                                                   \n",
       "Angola                     24.944753          15.513042       17.081215   \n",
       "Albania                    44.979562          23.153042        1.411091   \n",
       "United Arab Emirates       70.850619           4.267227       -1.931081   \n",
       "Argentina                  14.518503          21.790049             NaN   \n",
       "Armenia                    54.763353          21.758481        1.443447   \n",
       "...                              ...                ...             ...   \n",
       "Vietnam                   104.704268                NaN        2.795824   \n",
       "Yemen, Rep.                      NaN                NaN             NaN   \n",
       "South Africa               26.808066          34.520328        4.124351   \n",
       "Zambia                     34.155012          21.956163        9.150316   \n",
       "Zimbabwe                   32.030875                NaN      255.304991   \n",
       "\n",
       "                      SE.XPD.TOTL.GD.ZS  GB.XPD.RSDV.GD.ZS  \n",
       "country                                                     \n",
       "Angola                          1.82118                NaN  \n",
       "Albania                         3.94576                NaN  \n",
       "United Arab Emirates            3.10270                NaN  \n",
       "Argentina                       4.80237                NaN  \n",
       "Armenia                         2.56185                NaN  \n",
       "...                                 ...                ...  \n",
       "Vietnam                         4.06197                NaN  \n",
       "Yemen, Rep.                         NaN                NaN  \n",
       "South Africa                    6.50505                NaN  \n",
       "Zambia                          4.46518                NaN  \n",
       "Zimbabwe                            NaN                NaN  \n",
       "\n",
       "[149 rows x 8 columns]"
      ]
     },
     "execution_count": 28,
     "metadata": {},
     "output_type": "execute_result"
    }
   ],
   "source": [
    "World_Bank_Indicator"
   ]
  },
  {
   "cell_type": "code",
   "execution_count": null,
   "id": "42672ac8",
   "metadata": {},
   "outputs": [],
   "source": []
  }
 ],
 "metadata": {
  "kernelspec": {
   "display_name": "Python 3 (ipykernel)",
   "language": "python",
   "name": "python3"
  },
  "language_info": {
   "codemirror_mode": {
    "name": "ipython",
    "version": 3
   },
   "file_extension": ".py",
   "mimetype": "text/x-python",
   "name": "python",
   "nbconvert_exporter": "python",
   "pygments_lexer": "ipython3",
   "version": "3.10.3"
  }
 },
 "nbformat": 4,
 "nbformat_minor": 5
}
