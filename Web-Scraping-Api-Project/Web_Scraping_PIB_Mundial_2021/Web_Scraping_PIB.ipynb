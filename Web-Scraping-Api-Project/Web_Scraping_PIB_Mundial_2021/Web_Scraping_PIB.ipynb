{
 "cells": [
  {
   "cell_type": "markdown",
   "id": "ab9afb4b",
   "metadata": {},
   "source": [
    "#Escrapeamos la pagina web del ingreso nacional por pais en 2021 medido en billones de dolares"
   ]
  },
  {
   "cell_type": "code",
   "execution_count": 1,
   "id": "584ac035",
   "metadata": {},
   "outputs": [
    {
     "name": "stdout",
     "output_type": "stream",
     "text": [
      "                    Countries GDP-US$2021\n",
      "0                       China  $30,295.63\n",
      "1               United States  $22,527.10\n",
      "2                       India  $15,511.35\n",
      "3                       Japan   $5,680.86\n",
      "4                      Russia   $5,540.22\n",
      "..                        ...         ...\n",
      "145  Central African Republic       $8.17\n",
      "146                   Lesotho       $7.78\n",
      "147             Guinea-Bissau       $6.53\n",
      "148                Cape Verde       $4.60\n",
      "149                   Comoros       $3.61\n",
      "\n",
      "[150 rows x 2 columns]\n",
      "None\n"
     ]
    }
   ],
   "source": [
    "import requests\n",
    "from bs4 import BeautifulSoup\n",
    "import pandas as pd\n",
    "import re\n",
    "\n",
    "#import scrapy\n",
    "\n",
    "class WebScraping_GDP:\n",
    "    \n",
    "    def __init__(self, url_pattern, pages_to_scrape=10, sleep_interval=-1, content_parser=None):\n",
    "        self.url_pattern = url_pattern\n",
    "        self.pages_to_scrape = pages_to_scrape\n",
    "        self.sleep_interval = sleep_interval\n",
    "        self.content_parser = content_parser\n",
    "    \n",
    "    def scrape_url(self, url):\n",
    "        response = requests.get(url)\n",
    "        result = self.content_parser(response.content)\n",
    "        self.output_results(result)\n",
    "    \n",
    "    def output_results(self, r):\n",
    "        print(r)\n",
    "    \n",
    "    def kickstart(self):\n",
    "        for i in range(1, self.pages_to_scrape+1):\n",
    "            self.scrape_url(self.url_pattern)\n",
    "\n",
    "\n",
    "URL_PATTERN = 'https://www.worldeconomics.com/Indicator-Data/Economic-Size/Revaluation-of-GDP.aspx'\n",
    "PAGES_TO_SCRAPE = 1 # how many webpages to scrapge\n",
    "\n",
    "def quotes_parser(content):\n",
    "    soup = BeautifulSoup(content,'lxml')\n",
    "    rows = soup.find('table', attrs={\"class\":\"tableData\"}).find('tbody').find_all('tr')\n",
    "    paises = [row.find_all('td')[0] for row in rows]\n",
    "    paises_text = [el.text for el in paises] #lista de paises\n",
    "    PIB = [row.find_all('td')[1] for row in rows]\n",
    "    PIB_text = [el.text for el in PIB] #lista del PIB\n",
    "    PIB_Paises = zip(paises_text, PIB_text)\n",
    "    GDP_Paises = list(PIB_Paises)\n",
    "    df = pd.DataFrame (GDP_Paises, columns=['Countries','GDP-US$2021'])\n",
    "  \n",
    "    print(df)\n",
    "    df.to_csv('Data_GDP_World')\n",
    "\n",
    "    \n",
    "# Instantiate the IronhackSpider class\n",
    "my_web_scraping = WebScraping_GDP(URL_PATTERN, PAGES_TO_SCRAPE, content_parser=quotes_parser)\n",
    "\n",
    "# Start scraping jobs\n",
    "my_web_scraping.kickstart()"
   ]
  },
  {
   "cell_type": "code",
   "execution_count": null,
   "id": "bef44a21",
   "metadata": {},
   "outputs": [],
   "source": []
  }
 ],
 "metadata": {
  "kernelspec": {
   "display_name": "Python 3 (ipykernel)",
   "language": "python",
   "name": "python3"
  },
  "language_info": {
   "codemirror_mode": {
    "name": "ipython",
    "version": 3
   },
   "file_extension": ".py",
   "mimetype": "text/x-python",
   "name": "python",
   "nbconvert_exporter": "python",
   "pygments_lexer": "ipython3",
   "version": "3.10.3"
  }
 },
 "nbformat": 4,
 "nbformat_minor": 5
}
